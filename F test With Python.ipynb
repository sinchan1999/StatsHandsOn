{
 "cells": [
  {
   "cell_type": "markdown",
   "id": "15644e65-b909-4625-899c-81a82a92867f",
   "metadata": {},
   "source": [
    "## F test With Python"
   ]
  },
  {
   "cell_type": "code",
   "execution_count": 1,
   "id": "793a7e26-aa7d-4429-bdb7-8ae8ba3af4de",
   "metadata": {},
   "outputs": [],
   "source": [
    "#Evidence to say that the two population variances are not equal.\n",
    "\n",
    "worker1= [18, 19, 22, 25, 27, 28, 41, 45, 51, 55]\n",
    "worker2= [14, 15, 15, 17, 18, 22, 25, 25, 27, 34]"
   ]
  },
  {
   "cell_type": "code",
   "execution_count": 2,
   "id": "319d65cd-703a-4735-9187-556d4c5c5366",
   "metadata": {},
   "outputs": [
    {
     "data": {
      "text/plain": [
       "np.float64(4.387122002085506)"
      ]
     },
     "execution_count": 2,
     "metadata": {},
     "output_type": "execute_result"
    }
   ],
   "source": [
    "\n",
    "import numpy as np\n",
    "f_test=np.var(worker1)/np.var(worker2)\n",
    "f_test"
   ]
  },
  {
   "cell_type": "code",
   "execution_count": 3,
   "id": "683eb8d2-92f8-47bb-950d-12dca928b0d2",
   "metadata": {},
   "outputs": [],
   "source": [
    "## Degree OF fReedom\n",
    "df1=len(worker1)-1\n",
    "df2=len(worker2)-1\n",
    "signifance_value=0.05"
   ]
  },
  {
   "cell_type": "code",
   "execution_count": 4,
   "id": "34eab053-4ff3-4648-81f9-68381bc498dc",
   "metadata": {},
   "outputs": [],
   "source": [
    "import scipy.stats as stat"
   ]
  },
  {
   "cell_type": "code",
   "execution_count": 5,
   "id": "13be6395-f85e-4cd9-a26e-daa9dad5bec1",
   "metadata": {},
   "outputs": [],
   "source": [
    "critical_value=stat.f.ppf(q=1-signifance_value,dfn=df1,dfd=df2)"
   ]
  },
  {
   "cell_type": "code",
   "execution_count": 6,
   "id": "7713e88f-19e6-4765-85bd-5d9147cb5d12",
   "metadata": {},
   "outputs": [
    {
     "data": {
      "text/plain": [
       "np.float64(3.17889310445827)"
      ]
     },
     "execution_count": 6,
     "metadata": {},
     "output_type": "execute_result"
    }
   ],
   "source": [
    "critical_value"
   ]
  },
  {
   "cell_type": "code",
   "execution_count": 7,
   "id": "38ad607c-9d65-4b2b-99b8-c0c0db99c4d0",
   "metadata": {},
   "outputs": [
    {
     "name": "stdout",
     "output_type": "stream",
     "text": [
      "Reject the Null Hypothesis\n"
     ]
    }
   ],
   "source": [
    "if f_test>critical_value:\n",
    "    print(\"Reject the Null Hypothesis\")\n",
    "else:\n",
    "    print(\"We fail to Reject the Null Hypothesis\")"
   ]
  }
 ],
 "metadata": {
  "kernelspec": {
   "display_name": "Python 3 (ipykernel)",
   "language": "python",
   "name": "python3"
  },
  "language_info": {
   "codemirror_mode": {
    "name": "ipython",
    "version": 3
   },
   "file_extension": ".py",
   "mimetype": "text/x-python",
   "name": "python",
   "nbconvert_exporter": "python",
   "pygments_lexer": "ipython3",
   "version": "3.12.5"
  }
 },
 "nbformat": 4,
 "nbformat_minor": 5
}
