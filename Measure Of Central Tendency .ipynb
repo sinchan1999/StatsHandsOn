{
 "cells": [
  {
   "cell_type": "markdown",
   "id": "8def27d1-a3b2-4bef-8488-73cc6e8a25a7",
   "metadata": {},
   "source": [
    "## Measure Of Central Tendency"
   ]
  },
  {
   "cell_type": "markdown",
   "id": "ac36d963",
   "metadata": {},
   "source": [
    "### Mean(Average)"
   ]
  },
  {
   "cell_type": "code",
   "execution_count": 1,
   "id": "d2961496-39a0-4abd-ac92-ab25f6efcc1d",
   "metadata": {},
   "outputs": [],
   "source": [
    "\n",
    "age=[12,21,23,45,65,43,56,45,32,67,54,34]"
   ]
  },
  {
   "cell_type": "code",
   "execution_count": 2,
   "id": "101ea2b6-ae81-404e-aa2f-f524b955cd44",
   "metadata": {},
   "outputs": [
    {
     "data": {
      "text/plain": [
       "np.float64(41.416666666666664)"
      ]
     },
     "execution_count": 2,
     "metadata": {},
     "output_type": "execute_result"
    }
   ],
   "source": [
    "import numpy as np\n",
    "np.mean(age)"
   ]
  },
  {
   "cell_type": "code",
   "execution_count": 3,
   "id": "d88bbfa6-ae28-4dab-aca8-7c85550fea0f",
   "metadata": {},
   "outputs": [],
   "source": [
    "weights=[54,45,34,54,34,67,54,56,75]"
   ]
  },
  {
   "cell_type": "code",
   "execution_count": 4,
   "id": "5df3c060-d602-4508-b9e3-b4833b7e9ceb",
   "metadata": {},
   "outputs": [
    {
     "data": {
      "text/plain": [
       "np.float64(52.55555555555556)"
      ]
     },
     "execution_count": 4,
     "metadata": {},
     "output_type": "execute_result"
    }
   ],
   "source": [
    "np.mean(weights)"
   ]
  },
  {
   "cell_type": "code",
   "execution_count": 5,
   "id": "a382d9f5-cc2d-4148-a9ca-799982e903b5",
   "metadata": {},
   "outputs": [],
   "source": [
    "import seaborn as sns\n",
    "df=sns.load_dataset('tips')"
   ]
  },
  {
   "cell_type": "code",
   "execution_count": 6,
   "id": "beac29ab-5af0-4f86-9e6a-7fcf0e7fc97e",
   "metadata": {},
   "outputs": [
    {
     "data": {
      "text/html": [
       "<div>\n",
       "<style scoped>\n",
       "    .dataframe tbody tr th:only-of-type {\n",
       "        vertical-align: middle;\n",
       "    }\n",
       "\n",
       "    .dataframe tbody tr th {\n",
       "        vertical-align: top;\n",
       "    }\n",
       "\n",
       "    .dataframe thead th {\n",
       "        text-align: right;\n",
       "    }\n",
       "</style>\n",
       "<table border=\"1\" class=\"dataframe\">\n",
       "  <thead>\n",
       "    <tr style=\"text-align: right;\">\n",
       "      <th></th>\n",
       "      <th>total_bill</th>\n",
       "      <th>tip</th>\n",
       "      <th>sex</th>\n",
       "      <th>smoker</th>\n",
       "      <th>day</th>\n",
       "      <th>time</th>\n",
       "      <th>size</th>\n",
       "    </tr>\n",
       "  </thead>\n",
       "  <tbody>\n",
       "    <tr>\n",
       "      <th>0</th>\n",
       "      <td>16.99</td>\n",
       "      <td>1.01</td>\n",
       "      <td>Female</td>\n",
       "      <td>No</td>\n",
       "      <td>Sun</td>\n",
       "      <td>Dinner</td>\n",
       "      <td>2</td>\n",
       "    </tr>\n",
       "    <tr>\n",
       "      <th>1</th>\n",
       "      <td>10.34</td>\n",
       "      <td>1.66</td>\n",
       "      <td>Male</td>\n",
       "      <td>No</td>\n",
       "      <td>Sun</td>\n",
       "      <td>Dinner</td>\n",
       "      <td>3</td>\n",
       "    </tr>\n",
       "    <tr>\n",
       "      <th>2</th>\n",
       "      <td>21.01</td>\n",
       "      <td>3.50</td>\n",
       "      <td>Male</td>\n",
       "      <td>No</td>\n",
       "      <td>Sun</td>\n",
       "      <td>Dinner</td>\n",
       "      <td>3</td>\n",
       "    </tr>\n",
       "    <tr>\n",
       "      <th>3</th>\n",
       "      <td>23.68</td>\n",
       "      <td>3.31</td>\n",
       "      <td>Male</td>\n",
       "      <td>No</td>\n",
       "      <td>Sun</td>\n",
       "      <td>Dinner</td>\n",
       "      <td>2</td>\n",
       "    </tr>\n",
       "    <tr>\n",
       "      <th>4</th>\n",
       "      <td>24.59</td>\n",
       "      <td>3.61</td>\n",
       "      <td>Female</td>\n",
       "      <td>No</td>\n",
       "      <td>Sun</td>\n",
       "      <td>Dinner</td>\n",
       "      <td>4</td>\n",
       "    </tr>\n",
       "  </tbody>\n",
       "</table>\n",
       "</div>"
      ],
      "text/plain": [
       "   total_bill   tip     sex smoker  day    time  size\n",
       "0       16.99  1.01  Female     No  Sun  Dinner     2\n",
       "1       10.34  1.66    Male     No  Sun  Dinner     3\n",
       "2       21.01  3.50    Male     No  Sun  Dinner     3\n",
       "3       23.68  3.31    Male     No  Sun  Dinner     2\n",
       "4       24.59  3.61  Female     No  Sun  Dinner     4"
      ]
     },
     "execution_count": 6,
     "metadata": {},
     "output_type": "execute_result"
    }
   ],
   "source": [
    "df.head()"
   ]
  },
  {
   "cell_type": "code",
   "execution_count": 7,
   "id": "60e52ea0-4ff7-4a56-a638-fa6005dbf526",
   "metadata": {},
   "outputs": [
    {
     "data": {
      "text/plain": [
       "np.float64(19.78594262295082)"
      ]
     },
     "execution_count": 7,
     "metadata": {},
     "output_type": "execute_result"
    }
   ],
   "source": [
    "np.mean(df['total_bill'])"
   ]
  },
  {
   "cell_type": "markdown",
   "id": "4add0a87",
   "metadata": {},
   "source": [
    "### Median"
   ]
  },
  {
   "cell_type": "code",
   "execution_count": 8,
   "id": "c400864d-e274-493f-b00d-068a0d448ce7",
   "metadata": {},
   "outputs": [
    {
     "data": {
      "text/plain": [
       "np.float64(44.0)"
      ]
     },
     "execution_count": 8,
     "metadata": {},
     "output_type": "execute_result"
    }
   ],
   "source": [
    "\n",
    "np.median(age)"
   ]
  },
  {
   "cell_type": "code",
   "execution_count": 9,
   "id": "93fcb5c0-5f90-4acc-88f9-87b01b0b77b9",
   "metadata": {},
   "outputs": [],
   "source": [
    "age=[12,21,23,45,65,43,56,45,32,67,54,34,200]"
   ]
  },
  {
   "cell_type": "code",
   "execution_count": 10,
   "id": "cbad1a70-8515-4da3-88ca-c3e0267ee958",
   "metadata": {},
   "outputs": [
    {
     "data": {
      "text/plain": [
       "np.float64(53.61538461538461)"
      ]
     },
     "execution_count": 10,
     "metadata": {},
     "output_type": "execute_result"
    }
   ],
   "source": [
    "np.mean(age)"
   ]
  },
  {
   "cell_type": "code",
   "execution_count": 11,
   "id": "06a0e0d1-f36f-4864-9295-4c1e1f74e640",
   "metadata": {},
   "outputs": [
    {
     "data": {
      "text/plain": [
       "np.float64(45.0)"
      ]
     },
     "execution_count": 11,
     "metadata": {},
     "output_type": "execute_result"
    }
   ],
   "source": [
    "np.median(age)"
   ]
  },
  {
   "cell_type": "code",
   "execution_count": 12,
   "id": "e3529540",
   "metadata": {},
   "outputs": [
    {
     "data": {
      "text/plain": [
       "np.float64(17.795)"
      ]
     },
     "execution_count": 12,
     "metadata": {},
     "output_type": "execute_result"
    }
   ],
   "source": [
    "np.median(df['total_bill'])"
   ]
  },
  {
   "cell_type": "markdown",
   "id": "2e6a0b86",
   "metadata": {},
   "source": [
    "### Mode"
   ]
  },
  {
   "cell_type": "code",
   "execution_count": 14,
   "id": "0e97b4f4",
   "metadata": {},
   "outputs": [
    {
     "name": "stdout",
     "output_type": "stream",
     "text": [
      "Collecting scipy\n",
      "  Downloading scipy-1.14.0-cp312-cp312-win_amd64.whl.metadata (60 kB)\n",
      "Requirement already satisfied: numpy<2.3,>=1.23.5 in c:\\users\\sinch\\appdata\\local\\programs\\python\\python312\\lib\\site-packages (from scipy) (2.0.1)\n",
      "Downloading scipy-1.14.0-cp312-cp312-win_amd64.whl (44.5 MB)\n",
      "   ---------------------------------------- 0.0/44.5 MB ? eta -:--:--\n",
      "    --------------------------------------- 1.0/44.5 MB 5.6 MB/s eta 0:00:08\n",
      "   - -------------------------------------- 1.3/44.5 MB 3.0 MB/s eta 0:00:15\n",
      "   - -------------------------------------- 2.1/44.5 MB 3.4 MB/s eta 0:00:13\n",
      "   -- ------------------------------------- 2.6/44.5 MB 3.4 MB/s eta 0:00:13\n",
      "   -- ------------------------------------- 3.1/44.5 MB 3.4 MB/s eta 0:00:13\n",
      "   -- ------------------------------------- 3.1/44.5 MB 3.4 MB/s eta 0:00:13\n",
      "   ---- ----------------------------------- 4.7/44.5 MB 3.2 MB/s eta 0:00:13\n",
      "   ---- ----------------------------------- 5.2/44.5 MB 3.2 MB/s eta 0:00:13\n",
      "   ----- ---------------------------------- 6.0/44.5 MB 3.2 MB/s eta 0:00:12\n",
      "   ----- ---------------------------------- 6.6/44.5 MB 3.2 MB/s eta 0:00:12\n",
      "   ------ --------------------------------- 7.3/44.5 MB 3.2 MB/s eta 0:00:12\n",
      "   ------- -------------------------------- 7.9/44.5 MB 3.2 MB/s eta 0:00:12\n",
      "   ------- -------------------------------- 8.4/44.5 MB 3.2 MB/s eta 0:00:12\n",
      "   -------- ------------------------------- 9.2/44.5 MB 3.2 MB/s eta 0:00:12\n",
      "   -------- ------------------------------- 9.7/44.5 MB 3.2 MB/s eta 0:00:11\n",
      "   --------- ------------------------------ 10.5/44.5 MB 3.2 MB/s eta 0:00:11\n",
      "   --------- ------------------------------ 11.0/44.5 MB 3.2 MB/s eta 0:00:11\n",
      "   ---------- ----------------------------- 11.8/44.5 MB 3.2 MB/s eta 0:00:11\n",
      "   ----------- ---------------------------- 12.3/44.5 MB 3.2 MB/s eta 0:00:11\n",
      "   ----------- ---------------------------- 13.1/44.5 MB 3.1 MB/s eta 0:00:10\n",
      "   ------------ --------------------------- 13.6/44.5 MB 3.1 MB/s eta 0:00:10\n",
      "   ------------ --------------------------- 14.4/44.5 MB 3.1 MB/s eta 0:00:10\n",
      "   ------------- -------------------------- 14.9/44.5 MB 3.1 MB/s eta 0:00:10\n",
      "   ------------- -------------------------- 15.5/44.5 MB 3.1 MB/s eta 0:00:10\n",
      "   -------------- ------------------------- 16.3/44.5 MB 3.1 MB/s eta 0:00:09\n",
      "   --------------- ------------------------ 16.8/44.5 MB 3.1 MB/s eta 0:00:09\n",
      "   --------------- ------------------------ 17.6/44.5 MB 3.1 MB/s eta 0:00:09\n",
      "   ---------------- ----------------------- 18.1/44.5 MB 3.1 MB/s eta 0:00:09\n",
      "   ---------------- ----------------------- 18.9/44.5 MB 3.1 MB/s eta 0:00:09\n",
      "   ----------------- ---------------------- 19.4/44.5 MB 3.1 MB/s eta 0:00:08\n",
      "   ------------------ --------------------- 20.2/44.5 MB 3.1 MB/s eta 0:00:08\n",
      "   ------------------ --------------------- 20.7/44.5 MB 3.1 MB/s eta 0:00:08\n",
      "   ------------------- -------------------- 21.5/44.5 MB 3.1 MB/s eta 0:00:08\n",
      "   ------------------- -------------------- 22.0/44.5 MB 3.1 MB/s eta 0:00:08\n",
      "   -------------------- ------------------- 22.5/44.5 MB 3.1 MB/s eta 0:00:07\n",
      "   -------------------- ------------------- 23.3/44.5 MB 3.1 MB/s eta 0:00:07\n",
      "   --------------------- ------------------ 23.9/44.5 MB 3.1 MB/s eta 0:00:07\n",
      "   ---------------------- ----------------- 24.6/44.5 MB 3.1 MB/s eta 0:00:07\n",
      "   ---------------------- ----------------- 25.2/44.5 MB 3.1 MB/s eta 0:00:07\n",
      "   ----------------------- ---------------- 26.0/44.5 MB 3.1 MB/s eta 0:00:06\n",
      "   ----------------------- ---------------- 26.5/44.5 MB 3.1 MB/s eta 0:00:06\n",
      "   ------------------------ --------------- 27.3/44.5 MB 3.1 MB/s eta 0:00:06\n",
      "   ------------------------ --------------- 27.8/44.5 MB 3.1 MB/s eta 0:00:06\n",
      "   ------------------------- -------------- 28.6/44.5 MB 3.1 MB/s eta 0:00:06\n",
      "   -------------------------- ------------- 29.1/44.5 MB 3.1 MB/s eta 0:00:05\n",
      "   -------------------------- ------------- 29.9/44.5 MB 3.1 MB/s eta 0:00:05\n",
      "   --------------------------- ------------ 30.4/44.5 MB 3.1 MB/s eta 0:00:05\n",
      "   ---------------------------- ----------- 31.2/44.5 MB 3.1 MB/s eta 0:00:05\n",
      "   ---------------------------- ----------- 31.7/44.5 MB 3.1 MB/s eta 0:00:05\n",
      "   ----------------------------- ---------- 32.5/44.5 MB 3.1 MB/s eta 0:00:04\n",
      "   ----------------------------- ---------- 33.0/44.5 MB 3.1 MB/s eta 0:00:04\n",
      "   ------------------------------ --------- 33.6/44.5 MB 3.1 MB/s eta 0:00:04\n",
      "   ------------------------------ --------- 34.3/44.5 MB 3.1 MB/s eta 0:00:04\n",
      "   ------------------------------- -------- 34.9/44.5 MB 3.1 MB/s eta 0:00:04\n",
      "   -------------------------------- ------- 35.7/44.5 MB 3.1 MB/s eta 0:00:03\n",
      "   -------------------------------- ------- 36.2/44.5 MB 3.1 MB/s eta 0:00:03\n",
      "   --------------------------------- ------ 37.0/44.5 MB 3.1 MB/s eta 0:00:03\n",
      "   --------------------------------- ------ 37.5/44.5 MB 3.1 MB/s eta 0:00:03\n",
      "   ---------------------------------- ----- 38.0/44.5 MB 3.1 MB/s eta 0:00:03\n",
      "   ---------------------------------- ----- 38.8/44.5 MB 3.1 MB/s eta 0:00:02\n",
      "   ----------------------------------- ---- 39.3/44.5 MB 3.1 MB/s eta 0:00:02\n",
      "   ------------------------------------ --- 40.1/44.5 MB 3.1 MB/s eta 0:00:02\n",
      "   ------------------------------------ --- 40.6/44.5 MB 3.1 MB/s eta 0:00:02\n",
      "   ------------------------------------- -- 41.4/44.5 MB 3.1 MB/s eta 0:00:01\n",
      "   ------------------------------------- -- 41.9/44.5 MB 3.1 MB/s eta 0:00:01\n",
      "   -------------------------------------- - 42.7/44.5 MB 3.1 MB/s eta 0:00:01\n",
      "   -------------------------------------- - 43.3/44.5 MB 3.1 MB/s eta 0:00:01\n",
      "   ---------------------------------------  43.8/44.5 MB 3.1 MB/s eta 0:00:01\n",
      "   ---------------------------------------- 44.5/44.5 MB 3.1 MB/s eta 0:00:00\n",
      "Installing collected packages: scipy\n",
      "Successfully installed scipy-1.14.0\n",
      "Note: you may need to restart the kernel to use updated packages.\n"
     ]
    }
   ],
   "source": [
    "pip install scipy"
   ]
  },
  {
   "cell_type": "code",
   "execution_count": 15,
   "id": "8b18e55a-1dd8-4771-9e88-85eed973d056",
   "metadata": {},
   "outputs": [],
   "source": [
    "from scipy import stats"
   ]
  },
  {
   "cell_type": "code",
   "execution_count": 16,
   "id": "af9325f1-4c26-4216-af13-aa0ce653a98e",
   "metadata": {},
   "outputs": [
    {
     "data": {
      "text/plain": [
       "ModeResult(mode=np.int64(45), count=np.int64(2))"
      ]
     },
     "execution_count": 16,
     "metadata": {},
     "output_type": "execute_result"
    }
   ],
   "source": [
    "stats.mode(age)"
   ]
  },
  {
   "cell_type": "code",
   "execution_count": null,
   "id": "36449d56",
   "metadata": {},
   "outputs": [],
   "source": []
  }
 ],
 "metadata": {
  "kernelspec": {
   "display_name": "Python 3 (ipykernel)",
   "language": "python",
   "name": "python3"
  },
  "language_info": {
   "codemirror_mode": {
    "name": "ipython",
    "version": 3
   },
   "file_extension": ".py",
   "mimetype": "text/x-python",
   "name": "python",
   "nbconvert_exporter": "python",
   "pygments_lexer": "ipython3",
   "version": "3.12.5"
  }
 },
 "nbformat": 4,
 "nbformat_minor": 5
}
